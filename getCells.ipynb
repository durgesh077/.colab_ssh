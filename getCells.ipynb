{
  "nbformat": 4,
  "nbformat_minor": 0,
  "metadata": {
    "colab": {
      "name": "Blocks.ipynb",
      "provenance": [],
      "collapsed_sections": [],
      "authorship_tag": "ABX9TyMhbytmfiZ1KnF1YvAUv2Rr",
      "include_colab_link": true
    },
    "kernelspec": {
      "name": "python3",
      "display_name": "Python 3"
    },
    "language_info": {
      "name": "python"
    }
  },
  "cells": [
    {
      "cell_type": "markdown",
      "metadata": {
        "id": "view-in-github",
        "colab_type": "text"
      },
      "source": [
        "<a href=\"https://colab.research.google.com/github/durgesh077/.colab_ssh/blob/main/getCells.ipynb\" target=\"_parent\"><img src=\"https://colab.research.google.com/assets/colab-badge.svg\" alt=\"Open In Colab\"/></a>"
      ]
    },
    {
      "cell_type": "code",
      "execution_count": 2,
      "metadata": {
        "id": "jPFTbreT4ghW"
      },
      "outputs": [],
      "source": [
        "import cv2\n",
        "import numpy as np\n",
        "from google.colab.patches import cv2_imshow"
      ]
    },
    {
      "cell_type": "code",
      "source": [
        "show=cv2_imshow"
      ],
      "metadata": {
        "id": "Lg1Crnf6iR1o"
      },
      "execution_count": 7,
      "outputs": []
    },
    {
      "cell_type": "code",
      "source": [
        "imgGrid=cv2.imread(\"grid3.png\",cv2.IMREAD_GRAYSCALE)\n",
        "imgGrid=cv2.resize(imgGrid,(600,800),interpolation=cv2.INTER_AREA)\n",
        "marked=imgGrid.copy()\n",
        "show(marked)"
      ],
      "metadata": {
        "colab": {
          "base_uri": "https://localhost:8080/",
          "height": 817
        },
        "id": "IKBqeIKqAPlX",
        "outputId": "e55b16b2-4a62-4ff5-bcc3-29ec411853cf"
      },
      "execution_count": 9,
      "outputs": [
        {
          "output_type": "display_data",
          "data": {
            "image/png": "[encoded data removed]",
            "text/plain": [
              "<PIL.Image.Image image mode=L size=600x800 at 0x7FBCFABDC890>"
            ]
          },
          "metadata": {}
        }
      ]
    },
    {
      "cell_type": "code",
      "source": [
        "pxls=100\n",
        "blackPxls=0.5"
      ],
      "metadata": {
        "id": "KVBi8XM3wA64"
      },
      "execution_count": 10,
      "outputs": []
    },
    {
      "cell_type": "code",
      "source": [
        "def preprocess(img,th=20):\n",
        "  img=np.array(img,np.int32)\n",
        "  shp=(400,400)\n",
        "  for r in range(shp[0]):\n",
        "    for c in range((img.shape[1])):\n",
        "      if r ==0 and c==0:\n",
        "        img[r][c]=img[r][c]>th\n",
        "      elif r==0 and c:\n",
        "        img[r][c]=img[r][c-1]+(img[r][c]>th)\n",
        "      elif c==0 and r:\n",
        "        img[r][c]=img[r-1][c]+(img[r][c]>th)\n",
        "      else:\n",
        "        img[r][c]=img[r-1][c]+img[r][c-1]-img[r-1][c-1]+(img[r][c]>th)\n",
        "  for r in range(shp[0],img.shape[0]):\n",
        "    for c in range((shp[1])):\n",
        "      if r ==0 and c==0:\n",
        "        img[r][c]=img[r][c]>th\n",
        "      elif r==0 and c:\n",
        "        img[r][c]=img[r][c-1]+(img[r][c]>th)\n",
        "      elif c==0 and r:\n",
        "        img[r][c]=img[r-1][c]+(img[r][c]>th)\n",
        "      else:\n",
        "        img[r][c]=img[r-1][c]+img[r][c-1]-img[r-1][c-1]+(img[r][c]>th)\n",
        "  return img\n",
        "def ratioBlack(img,r,c,h,w):\n",
        "  h-=1\n",
        "  w-=1\n",
        "  sm=0\n",
        "  if r ==0 and c==0:\n",
        "    sm= img[h][w]\n",
        "  elif r==0 and c:\n",
        "    sm= img[h][c+w]- img[h][c-1]\n",
        "  elif c==0 and r:\n",
        "    sm= img[r+h][w]-img[r-1][w]\n",
        "  else:\n",
        "    sm= img[r+h][c+w]-img[r-1][c+w]-img[r+h][c-1]+img[r-1][c-1]\n",
        "  total=((h+1)*(w+1))\n",
        "  return 1-sm/total;"
      ],
      "metadata": {
        "id": "QLIKwnGYhIo2"
      },
      "execution_count": 11,
      "outputs": []
    },
    {
      "cell_type": "code",
      "source": [
        "def convoluteShort(on,kernelShape):\n",
        "  \n",
        "  if on.shape[0]<200 or on.shape[1]<200:\n",
        "    return 1\n",
        "\n",
        "  y_len=kernelShape[0]\n",
        "  x_len=kernelShape[1]\n",
        "  y_from,x_from=0,0\n",
        "  done=False\n",
        "  for y in range(100):\n",
        "    for x in range(100):\n",
        "      res=ratioBlack(on,y,x,y_len,x_len)\n",
        "      if res>blackPxls:\n",
        "        y_from,x_from=(y+y_len,x+x_len)\n",
        "        done=True\n",
        "        break\n",
        "    if done:\n",
        "      break\n",
        "\n",
        "  # try:\n",
        "  while(ratioBlack(on,y_from,x_from,5,5)>blackPxls):\n",
        "    x_from+=2\n",
        "  x_from-=2\n",
        "  while(1-ratioBlack(on,y_from,x_from,2,pxls)>blackPxls):\n",
        "    y_from+=1\n",
        "  return y_from,x_from\n",
        "  # except:\n",
        "  #   return 2\n",
        "\n",
        "\n",
        "def nextHorizontalShort(on,y_prev,x_prev):\n",
        "  y_prev+=30\n",
        "  y_from=y_prev\n",
        "  x_from=x_prev\n",
        "  while(ratioBlack(on,y_from,x_from,5,pxls)>blackPxls):\n",
        "      y_from+=1\n",
        "  while(1-ratioBlack(on,y_from,x_from,5,pxls)>blackPxls):\n",
        "      y_from+=1\n",
        "  return y_from,x_from\n",
        "\n",
        "def nextVerticalShort(on,y_prev,x_prev):\n",
        "  x_prev+=30\n",
        "  y_from=y_prev\n",
        "  x_from=x_prev\n",
        "  while(ratioBlack(on,y_from,x_from,pxls,5)>blackPxls):\n",
        "    x_from+=1\n",
        "  while(1-ratioBlack(on,y_from,x_from,pxls,5)>blackPxls):\n",
        "      x_from+=1\n",
        "  return y_from,x_from"
      ],
      "metadata": {
        "id": "MiKcS9XYqIvt"
      },
      "execution_count": 12,
      "outputs": []
    },
    {
      "cell_type": "code",
      "source": [
        "def rotate(img,angle):\n",
        "  rows = img.shape[0]\n",
        "  cols = img.shape[1]\n",
        "\n",
        "  img_center = (cols / 2, rows / 2)\n",
        "  M = cv2.getRotationMatrix2D(img_center, angle, 1)\n",
        "\n",
        "  rotated_image = cv2.warpAffine(img, M, (cols, rows),\n",
        "                            borderMode=cv2.BORDER_CONSTANT,\n",
        "                            borderValue=(255,255,255))\n",
        "  return rotated_image"
      ],
      "metadata": {
        "id": "tNPe7zwBF55o"
      },
      "execution_count": 13,
      "outputs": []
    },
    {
      "cell_type": "code",
      "source": [
        "def getAllCells(hori,ver,on):\n",
        "  starts=[]\n",
        "  for y in range(len(hori)-1):\n",
        "    for x in range(len(ver)-1):\n",
        "      leftTop=hori[y][0],ver[x][1]\n",
        "      rightEnd=hori[y+1][0],ver[x+1][1]\n",
        "      starts.append((leftTop,rightEnd))\n",
        "  return starts"
      ],
      "metadata": {
        "id": "cE8WsKHVnV8o"
      },
      "execution_count": 14,
      "outputs": []
    },
    {
      "cell_type": "code",
      "source": [
        "for ii in np.arange(0,5):\n",
        "    for i in [ii,-(ii)]:\n",
        "      global done\n",
        "      global marked\n",
        "      done=False\n",
        "      if i:\n",
        "        timg=rotate(marked,i)\n",
        "      else: \n",
        "        timg=marked\n",
        "      img=preprocess(timg)\n",
        "      try:\n",
        "        leftEndpoint=convoluteShort(img,(30,30))\n",
        "        horizontal=[leftEndpoint]\n",
        "        vertical=[leftEndpoint]\n",
        "        while(len(horizontal)<10):\n",
        "          horizontal.append(nextHorizontalShort(img,horizontal[-1][0],horizontal[-1][1]))\n",
        "        while(len(vertical)<8):\n",
        "          vertical.append(nextVerticalShort(img,vertical[-1][0],vertical[-1][1]))\n",
        "        done=True\n",
        "        print(\"done\")\n",
        "        marked=timg\n",
        "        break\n",
        "      except:\n",
        "        print(i)\n",
        "        if ii==0:\n",
        "          break\n",
        "    if done :\n",
        "      break\n",
        "# print(done)\n",
        "if not done:\n",
        "  raise \"not good image\""
      ],
      "metadata": {
        "colab": {
          "base_uri": "https://localhost:8080/"
        },
        "id": "gV0cT6KMIxRq",
        "outputId": "a4694cc8-96fd-4efc-af40-00d982c292e0"
      },
      "execution_count": 15,
      "outputs": [
        {
          "output_type": "stream",
          "name": "stdout",
          "text": [
            "done\n"
          ]
        }
      ]
    },
    {
      "cell_type": "code",
      "source": [
        "allBlocks=getAllCells(horizontal,vertical,marked)\n",
        "cells=marked.copy()\n",
        "for lt,rb in allBlocks:\n",
        "  cells=cv2.rectangle(cells,lt[::-1],rb[::-1],100,2)\n",
        "show(cells)"
      ],
      "metadata": {
        "colab": {
          "base_uri": "https://localhost:8080/",
          "height": 817
        },
        "id": "YNsWb7RWLkx0",
        "outputId": "492f933b-916f-444e-a78e-c48208c01e7a"
      },
      "execution_count": 16,
      "outputs": [
        {
          "output_type": "display_data",
          "data": {
            "image/png": "[encoded data removed]",
            "text/plain": [
              "<PIL.Image.Image image mode=L size=600x800 at 0x7FBCFA3821D0>"
            ]
          },
          "metadata": {}
        }
      ]
    },
    {
      "cell_type": "code",
      "source": [
        ""
      ],
      "metadata": {
        "id": "m-bVXxqXaQAA"
      },
      "execution_count": 16,
      "outputs": []
    }
  ]
}